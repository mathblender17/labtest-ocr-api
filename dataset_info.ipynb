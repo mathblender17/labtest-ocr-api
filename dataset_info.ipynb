{
 "cells": [
  {
   "cell_type": "code",
   "execution_count": 3,
   "id": "f1f6e10f",
   "metadata": {},
   "outputs": [
    {
     "name": "stdout",
     "output_type": "stream",
     "text": [
      "Total files found: 2\n",
      "Sample files: ['lbmaske', '__MACOSX']\n"
     ]
    }
   ],
   "source": [
    "import os\n",
    "\n",
    "extract_path = r'C:\\Users\\Admin\\OneDrive\\Desktop\\vscode\\bajaj finserv helth Q2\\lab_reports_samples'  # Change this to your local path\n",
    "\n",
    "# List all files\n",
    "all_files = os.listdir(extract_path)\n",
    "\n",
    "print(f\"Total files found: {len(all_files)}\")\n",
    "print(\"Sample files:\", all_files[:5])  # See a few filenames\n"
   ]
  },
  {
   "cell_type": "code",
   "execution_count": 4,
   "id": "244e63c0",
   "metadata": {},
   "outputs": [
    {
     "name": "stdout",
     "output_type": "stream",
     "text": [
      "Total files found: 2\n",
      "Sample files: ['._lbmaske', 'lbmaske']\n"
     ]
    }
   ],
   "source": [
    "extract_path = r'C:\\Users\\Admin\\OneDrive\\Desktop\\vscode\\bajaj finserv helth Q2\\lab_reports_samples\\__MACOSX'  # Change this to your local path\n",
    "\n",
    "# List all files\n",
    "all_files = os.listdir(extract_path)\n",
    "\n",
    "print(f\"Total files found: {len(all_files)}\")\n",
    "print(\"Sample files:\", all_files[:5])  # See a few filenames\n"
   ]
  },
  {
   "cell_type": "code",
   "execution_count": 6,
   "id": "9b114416",
   "metadata": {},
   "outputs": [
    {
     "name": "stdout",
     "output_type": "stream",
     "text": [
      "Total files found: 427\n",
      "Sample files: ['._.DS_Store', '._AHD-0425-PA-0007561_JITENDRA TRIVEDI DS_28-04-2025_1019-21_AM.pdf_page_9.png', '._AHD-0425-PA-0007719_E-REPORTS_250427_2032@E.pdf_page_4.png', '._AHD-0425-PA-0007719_E-REPORTS_250427_2032@E.pdf_page_7.png', '._AHD-0425-PA-0008061_E-mahendrasinghdischargecard_250427_1114@E.pdf_page_13.png']\n"
     ]
    }
   ],
   "source": [
    "extract_path = r'C:\\Users\\Admin\\OneDrive\\Desktop\\vscode\\bajaj finserv helth Q2\\lab_reports_samples\\__MACOSX\\lbmaske'  # Change this to your local path\n",
    "\n",
    "# List all files\n",
    "all_files = os.listdir(extract_path)\n",
    "\n",
    "print(f\"Total files found: {len(all_files)}\")\n",
    "print(\"Sample files:\", all_files[:5])  # See a few filenames\n"
   ]
  },
  {
   "cell_type": "code",
   "execution_count": null,
   "id": "a86c6114",
   "metadata": {},
   "outputs": [
    {
     "name": "stdout",
     "output_type": "stream",
     "text": [
      "Total files found: 427\n",
      "Sample files: ['.DS_Store', 'AHD-0425-PA-0007561_JITENDRA TRIVEDI DS_28-04-2025_1019-21_AM.pdf_page_9.png', 'AHD-0425-PA-0007719_E-REPORTS_250427_2032@E.pdf_page_4.png', 'AHD-0425-PA-0007719_E-REPORTS_250427_2032@E.pdf_page_7.png', 'AHD-0425-PA-0008061_E-mahendrasinghdischargecard_250427_1114@E.pdf_page_13.png']\n"
     ]
    }
   ],
   "source": [
    "extract_path = r'C:\\Users\\Admin\\OneDrive\\Desktop\\vscode\\bajaj finserv helth Q2\\lab_reports_samples\\lbmaske'  # Change this to your local path\n",
    "\n",
    "\n",
    "# List all files\n",
    "all_files = os.listdir(extract_path)\n",
    "\n",
    "print(f\"Total files found: {len(all_files)}\")\n",
    "print(\"Sample files:\", all_files[:5])  # See a few filenames\n"
   ]
  },
  {
   "cell_type": "markdown",
   "id": "47815414",
   "metadata": {},
   "source": [
    "### usable images are the one in lbmaske folder - almost all other are of no use - they are system files"
   ]
  },
  {
   "cell_type": "code",
   "execution_count": 9,
   "id": "1c8bc76f",
   "metadata": {},
   "outputs": [],
   "source": [
    "import os\n",
    "from PIL import Image"
   ]
  },
  {
   "cell_type": "code",
   "execution_count": 8,
   "id": "c0cdc10a",
   "metadata": {},
   "outputs": [],
   "source": [
    "images_folder =r'C:\\Users\\Admin\\OneDrive\\Desktop\\vscode\\bajaj finserv helth Q2\\lab_reports_samples\\lbmaske'"
   ]
  },
  {
   "cell_type": "markdown",
   "id": "922be7f7",
   "metadata": {},
   "source": [
    "### checking for any discrepancies/"
   ]
  },
  {
   "cell_type": "code",
   "execution_count": 11,
   "id": "7d88d0c7",
   "metadata": {},
   "outputs": [
    {
     "name": "stdout",
     "output_type": "stream",
     "text": [
      "\n",
      " Valid images: 426\n",
      " Invalid filenames: 1 — ['.DS_Store']\n",
      " Corrupted images: 0 — []\n"
     ]
    }
   ],
   "source": [
    "\n",
    "\n",
    "all_files = os.listdir(images_folder)\n",
    "invalid_files = []\n",
    "corrupted_images = []\n",
    "valid_images = []\n",
    "\n",
    "for file in all_files:\n",
    "    file_path = os.path.join(images_folder, file)\n",
    "\n",
    "    # Ignore system files\n",
    "    if file.startswith('.') or file.startswith('._'):\n",
    "        invalid_files.append(file)\n",
    "        continue\n",
    "\n",
    "    # Check extension\n",
    "    if not file.lower().endswith('.png'):\n",
    "        invalid_files.append(file)\n",
    "        continue\n",
    "\n",
    "    # Try to open image\n",
    "    try:\n",
    "        with Image.open(file_path) as img:\n",
    "            img.verify()  # Check if image can be loaded properly\n",
    "        valid_images.append(file)\n",
    "    except Exception as e:\n",
    "        corrupted_images.append((file, str(e)))\n",
    "\n",
    "# Final report\n",
    "print(f\"\\n Valid images: {len(valid_images)}\")\n",
    "print(f\" Invalid filenames: {len(invalid_files)} — {invalid_files[:5]}\")\n",
    "print(f\" Corrupted images: {len(corrupted_images)} — {[c[0] for c in corrupted_images[:5]]}\")\n"
   ]
  },
  {
   "cell_type": "code",
   "execution_count": null,
   "id": "a7d74989",
   "metadata": {},
   "outputs": [],
   "source": []
  }
 ],
 "metadata": {
  "kernelspec": {
   "display_name": "base",
   "language": "python",
   "name": "python3"
  },
  "language_info": {
   "codemirror_mode": {
    "name": "ipython",
    "version": 3
   },
   "file_extension": ".py",
   "mimetype": "text/x-python",
   "name": "python",
   "nbconvert_exporter": "python",
   "pygments_lexer": "ipython3",
   "version": "3.11.4"
  }
 },
 "nbformat": 4,
 "nbformat_minor": 5
}
